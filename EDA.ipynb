{
 "cells": [
  {
   "cell_type": "markdown",
   "id": "bb66bff2",
   "metadata": {},
   "source": [
    "# Medical School Admissions Dataset Curation via Web Scraping and Exploratory Data Analysis\n",
    "\n",
    "\n",
    "### Author & Background\n",
    "\n",
    "- Michael Welsh (mjw467@drexel.edu) - CHOP Researcher\n",
    "\n",
    "\n",
    "### Overview of Project\n",
    "\n",
    "\n",
    "The average acceptance rate out of the ~170 medical schools in the U.S. is around 5.5%.  Airfare for interviewing alone can exceed $500, on top of the other hundreds of dollars to apply and send primary/secondary applications to just a single school.  Despite these expenses, it's necessary to apply to 20-30 schools to get an acceptance, and for many, you cannot afford, both literally and figuratively, to not get accepted and reapply the following year.  How do you pick your list of schools to maximize your chances of acceptance?\n",
    "\n",
    "\n",
    "In this final project, medical school admission statistics are scraped off the Association of American Medical Colleges' (AAMC's) Medical School Admission Requirements (MSAR) website (https://students-residents.aamc.org/) and turned into a dataset.  AAMC provides a wealth of knowledge at the school-level, but falls short of having any sort of analysis across all schools, especially tailored to individual applicants, which is the motivation behind this project.  Now, this dataset includes numerous things such as MCAT (Medical College Admissions Test)/GPA quantiles, in/out-of-state acceptance rates/bias, demographics, geographics, funding and institution type, residency match rates by specialty, etc.  Exploratory data analysis is then performed to determine the list of schools my fiancée (PA resident), based on her background, should apply to, to maximize her chances of acceptance this cycle.\n",
    "\n",
    "\n",
    "### Dataset Curation & Data Usage\n",
    "\n",
    "AAMC provides yearly reports of MSAR for every medical school in the United States and surrounding regions (such as Canada).  Accessing their data requires a subscription account, for which I have.  Their data usage policy states that a user can use their data for personal and non-profit educational/research purposes (so long as data sharing is restricted).  Web scraping using traditional methods is explicitly prohibited, but manual user-level scraping is allowed.  For each school, I manually copy/paste the entire associated webpage text into a standalone text file.  Then, using regular expressions and some python wizardry, I parse each text file representing each school and create a usable CSV file.  Some manual intervention is required for some schools that have inconsistent formats in some features.  The only strictly-manual recording needing to be done is of the GPA/science GPA quantiles and if any applicants matriculated from Pennsylvania (due to regular expression limitations and a lack of standardized format on their website).\n",
    "\n",
    "During curation, some medical schools were excluded by default because they did not meet the following inclusion criteria:\n",
    "- School must have provided data (some schools didn't because they were just founded or are stingy)\n",
    "- School must be in the U.S.\n",
    "- If the school is not in PA, then it must accept out-of-state students.\n",
    "\n",
    "The end result was a dataset of <b>139 schools</b> and <b>152 features</b>.  Despite all these features, only a small subset was determined useful in this analysis.\n",
    "\n",
    "Dataset curation files can be found in the \"dataset_curation\" directory.  I have each school's website textual information saved as its own .txt file, and the manually obtained fields (GPA, etc) saved in a CSV file.  The \"dataset_curation.ipynb\" notebook processes all this saved information and turns it into the \"dataset.csv\" file found in this parent-level directory for use in exploratory data analysis.\n",
    "\n",
    "\n",
    "### Analytic Approach\n",
    "\n",
    "The goal is to determine the list of schools my fiancée (PA resident), based on her background, should apply to, to maximize her chances of acceptance this cycle.  This can easily be done if a means of ranking/ordering schools based on chances of acceptance exists.  MCAT/total-GPA/science-GPA quantiles (quantiles of fiancée's stats relative to that respective school), and the odds of being interviewed as a PA resident, were determined to be the most important factors in estimating chances of acceptance with a school.  In otherwords, the higher these 4 metrics, the higher the chances of acceptance into that respective school.  It's hard to say which metric is more important (weighs more) than the others.  Generally speaking, it is well known that a person's MCAT score is weighed more heavily by interview committees than other scores, but that's it.  With these 4 metrics, a pseudo-ranking algorithm was developed and used to rank/order schools based on chances of acceptance.  First, these 4 metrics need to be further explained.\n",
    "\n",
    "We are only given the 10/25/50/75/90 \\% quantile values for each school. The goal is to estimate which quantile the user's stats belong to for each test for each school. If we can determine the difference between Q2 and Q1, and Q3 and Q2 are roughly equal (in other words, if (Q2 - Q1) / (Q3 - Q2) is roughly equal to 1), then we can conclude the distribution is roughly normal and can estimate the mean/std accordingly to further calculate the quantiles of the user's stats. In other words, if roughly normal, we could say mean = median and std = (Q2 − Q1) / 0.674 = (Q3 − Q2) / 0.674.\n",
    "\n",
    "We end up seeing the MCAT score across all schools is fairly normal, with the mean being roughly equal to the median (outliers definitely exist, which skews the distribution slightly left, since the mean is marginally greater than the median). Similarly, the total GPA is also fairly normal, with the mean and median being roughly equal and the mean being slightly larger than the median indicating the distribution being slightly skewed left. The science GPA has some divide-by-zero issues, meaning some Q3's = Q2's, which is a phenomenon I did see in curating this dataset, but Q1/median/Q3 is pretty much the same as the total GPA, so we can conclude it is also fairly equal.\n",
    "\n",
    "All in all, we can conclude that the MCAT, total GPA, and science GPA's reported by schools are fairly normal; therefore, we can estimate the mean/std fairly accurately, which are then used to calculate what quantile's the user's stats are in for each school.  Note that I use the words \"user\" and \"fiancée\" interchangeably.\n",
    "\n",
    "I then analyze the odds of being interviewed given the user is a PA resident.  Any odds(interview | PA resident) >= 1 is great, because it means you are that much more likely to get interviewed purely based on living in PA.\n",
    "\n",
    "We do interviews here instead of whether or not they matriculated, because it is common knowledge that no one will turn down an interview, but people most certainly turn down out-of-state schools (assuming they got offers elsewhere) due to inflated out-of-state tuition prices. In other words, the odds of matriculation are potentially more biased than the odds of being interviewed. 3 schools had no interview data, so their matriculation data was used in-place for a rough estimate of what their interview data might be. Since it was only 3 schools, this imputation method is fine.\n",
    "\n",
    "Now that the 4 above metrics are calculated, the schools can be ranked via the pseudo-ranking algorithm.  The way this is done is by counting from 1.0 to 0.0 and keeping track of which schools have all 4 metrics greater than or equal to the counter (a sort of quantile threshold). This allows us to determine which schools fall at a specific quantile. If multiple schools fall at a specific quantile, they are sorted by the above 4 metrics in order (so sorted first by MCAT quantile because we can generally say its most important, then by total-GPA quantile, then science-GPA quantile, and finally by Odds). The result is a pseudo-ranking of schools from best to worst chances of acceptance.  These rankings/metrics are saved out to a CSV.  Note the scale: the best school (highest ranking school) has a ranking of 1, and the worst school (lowest ranking school) has a ranking of 139.\n",
    "\n",
    "I first analyze the rankings by state using a choropleth map.  It's apparent that the northeast, south, and west-coast states have schools that have the greatest chances of acceptance.  I then list the top 20 schools.  Furthermore, I list all schools in just California, and all schools in just Pennsylvania.  My fiancée has an affinity towards both those states.  One thing worth noting is she went to PSU for her undergraduate degree.  Penn State Hershey Medical School has a known bias towards Penn State undergrads and her chances of acceptance at Hershey are presumably higher than the listed metrics.\n",
    "\n",
    "Finally, I perform PCA on all features (including the 4 above metrics).  It's clear the top 20 ranked schools aren't obvious and PCA/Clustering methods provide much less insight than this described analytic approach.\n",
    "\n",
    "\n",
    "### Results\n",
    "\n",
    "Results can be found in \"med_schools_ranked_relative_to_fiancee.csv\", \"med_schools_ranked_relative_to_fiancee_just_california.csv\", and \"med_schools_ranked_relative_to_fiancee_just_pennsylvania.csv\".  As mentioned in the analytic approach, the first CSV has all schools ranked/ordered by chances of acceptance (highest chance to lowest).  The top n schools can easily be selected.  And then lists of schools in CA and PA, still ranked/ordered accordingly, are in the other 2 CSVs.\n",
    "\n",
    "\n",
    "### Limitations\n",
    "\n",
    "The hardest part of this project was the dataset curation process.  It took a substantial amount of time collecting data due to the sheer number of schools and features, even with using regular expressions.  Also, AAMC's data usage policy means an automatic pipeline to download updated yearly information is prohibited, meaning this project would always require the manual data collection step if turned into a tool for other users, and I'd have to limit how information is shared to further adhere to their usage policy.  Also, I did my analysis from the perspective of a PA applicant who wants to stay in the U.S, which obviously isn't representative of all applicants.  All this said, I was able to produce a realistically great list of schools for my someone like my fiancée to apply to; thus, I met my goal.\n",
    "\n",
    "\n",
    "# Code\n",
    "\n",
    "\n",
    "### Setup User's (Fiancée's) Stats"
   ]
  },
  {
   "cell_type": "code",
   "execution_count": 708,
   "id": "93a8aab6",
   "metadata": {},
   "outputs": [],
   "source": [
    "user_mcat      = 512\n",
    "user_total_gpa = 3.69\n",
    "user_sci_gpa   = 3.48"
   ]
  },
  {
   "cell_type": "markdown",
   "id": "54ff8de0",
   "metadata": {},
   "source": [
    "### Setup Environment & Load Data"
   ]
  },
  {
   "cell_type": "code",
   "execution_count": 709,
   "id": "50f6474d",
   "metadata": {},
   "outputs": [
    {
     "data": {
      "text/html": [
       "<style>.container { width:100% !important; }</style>"
      ],
      "text/plain": [
       "<IPython.core.display.HTML object>"
      ]
     },
     "metadata": {},
     "output_type": "display_data"
    }
   ],
   "source": [
    "# Standard modules\n",
    "import matplotlib.pyplot as plt\n",
    "from   matplotlib.scale import LogScale\n",
    "from   matplotlib.ticker import StrMethodFormatter\n",
    "import numpy as np\n",
    "import os\n",
    "from   os.path import exists, join\n",
    "import pandas as pd\n",
    "import plotly.express as px\n",
    "from   scipy.stats import norm\n",
    "import seaborn as sns\n",
    "from   sklearn.decomposition import PCA\n",
    "\n",
    "# Pandas specific stuff\n",
    "pd.set_option('display.float_format', lambda x: '%.8f' % x)\n",
    "pd.set_option('display.max_rows', None)\n",
    "\n",
    "# Seaborn specific stuff\n",
    "sns.set(style='white')\n",
    "\n",
    "# Notebook specific stuff\n",
    "from IPython.display import clear_output, display, HTML\n",
    "display(HTML(\"<style>.container { width:100% !important; }</style>\"))\n",
    "%matplotlib inline"
   ]
  },
  {
   "cell_type": "code",
   "execution_count": 710,
   "id": "c616df06",
   "metadata": {},
   "outputs": [],
   "source": [
    "# Get paths\n",
    "dataset_csv_path = 'dataset.csv'\n",
    "\n",
    "# Error check, make sure paths exist\n",
    "for p in (dataset_csv_path, ):\n",
    "    if not exists(p):\n",
    "        raise RuntimeError(f'Path does not exist: {p}')\n",
    "    #\n",
    "#"
   ]
  },
  {
   "cell_type": "code",
   "execution_count": 711,
   "id": "d94f556c",
   "metadata": {},
   "outputs": [],
   "source": [
    "# Read dataset CSV into DataFrame\n",
    "df = pd.read_csv(dataset_csv_path)"
   ]
  },
  {
   "cell_type": "markdown",
   "id": "12f63ab0",
   "metadata": {},
   "source": [
    "### Analyze Normality of MCAT, Total GPA, and Science GPA Data\n",
    "\n",
    "\n",
    "We are only given the 10/25/50/75/90 % quantile values for each school.  The goal is to estimate which quantile the user's stats belong to for each test for each school.  If we can determine the difference between Q2 and Q1, and Q3 and Q2 are roughly equal (in other words, if (Q2 - Q1) / (Q3 - Q2) is roughly equal to 1), then we can conclude the distribution is roughly normal and can estimate the mean/std accordingly to further calculate the quantiles of the user's stats.  In other words, if roughly normal, we could say mean = median and std = (Q2 − Q1) / 0.674 = (Q3 − Q2) / 0.674."
   ]
  },
  {
   "cell_type": "code",
   "execution_count": 712,
   "id": "93c3e6a5",
   "metadata": {
    "scrolled": true
   },
   "outputs": [
    {
     "data": {
      "text/plain": [
       "count   139.00000000\n",
       "mean      1.11366906\n",
       "std       0.46372543\n",
       "min       0.50000000\n",
       "25%       1.00000000\n",
       "50%       1.00000000\n",
       "75%       1.33333333\n",
       "max       5.00000000\n",
       "dtype: float64"
      ]
     },
     "execution_count": 712,
     "metadata": {},
     "output_type": "execute_result"
    }
   ],
   "source": [
    "((df['MCAT_50th_percentile'] - df['MCAT_25th_percentile']) / (df['MCAT_75th_percentile'] - df['MCAT_50th_percentile'])).describe()"
   ]
  },
  {
   "cell_type": "code",
   "execution_count": 713,
   "id": "30f2662a",
   "metadata": {
    "scrolled": true
   },
   "outputs": [
    {
     "data": {
      "text/plain": [
       "count   139.00000000\n",
       "mean      1.52713094\n",
       "std       0.37882720\n",
       "min       0.65000000\n",
       "25%       1.27272727\n",
       "50%       1.45454545\n",
       "75%       1.75000000\n",
       "max       2.50000000\n",
       "dtype: float64"
      ]
     },
     "execution_count": 713,
     "metadata": {},
     "output_type": "execute_result"
    }
   ],
   "source": [
    "((df['GPA_total_50th_percentile'] - df['GPA_total_25th_percentile']) / (df['GPA_total_75th_percentile'] - df['GPA_total_50th_percentile'])).describe()"
   ]
  },
  {
   "cell_type": "code",
   "execution_count": 714,
   "id": "64ed8158",
   "metadata": {
    "scrolled": true
   },
   "outputs": [
    {
     "data": {
      "text/plain": [
       "count   139.00000000\n",
       "mean             inf\n",
       "std              NaN\n",
       "min       0.72727273\n",
       "25%       1.23443223\n",
       "50%       1.46666667\n",
       "75%       1.75000000\n",
       "max              inf\n",
       "dtype: float64"
      ]
     },
     "execution_count": 714,
     "metadata": {},
     "output_type": "execute_result"
    }
   ],
   "source": [
    "((df['GPA_sci_50th_percentile'] - df['GPA_sci_25th_percentile']) / (df['GPA_sci_75th_percentile'] - df['GPA_sci_50th_percentile'])).describe()"
   ]
  },
  {
   "cell_type": "markdown",
   "id": "c7c79134",
   "metadata": {},
   "source": [
    "He were see that the MCAT score across all schools is fairly normal, with the mean being roughly equal to the median (outliers definitely exist, which skews the distribution slightly left, since the mean is marginally greater than the median).  Similarly, the total GPA is also fairly normal, with the mean and median being roughly equal and the mean being slightly larger than the median indicating the distribution being slightly skewed left.  The science GPA has some divide-by-zero issues, meaning some Q3's = Q2's, which is a phenomenon I did see in curating this dataset, but Q1/median/Q3 is pretty much the same as the total GPA, so we can conclude it is also fairly equal.  \n",
    "\n",
    "\n",
    "All in all, we can conclude that the MCAT, total GPA, and science GPA's reported by schools are fairly normal; therefore, we can estimate the mean/std fairly accurately, which will be used to calculate what quantile's the user's stats are in for each school."
   ]
  },
  {
   "cell_type": "markdown",
   "id": "94d70c04",
   "metadata": {},
   "source": [
    "### MCAT, Total GPA, and Science GPA are Roughly Normal => Estimate User's Stats' Quantiles Relative to Each School"
   ]
  },
  {
   "cell_type": "code",
   "execution_count": 715,
   "id": "abb5ad7f",
   "metadata": {},
   "outputs": [
    {
     "data": {
      "text/html": [
       "<div>\n",
       "<style scoped>\n",
       "    .dataframe tbody tr th:only-of-type {\n",
       "        vertical-align: middle;\n",
       "    }\n",
       "\n",
       "    .dataframe tbody tr th {\n",
       "        vertical-align: top;\n",
       "    }\n",
       "\n",
       "    .dataframe thead th {\n",
       "        text-align: right;\n",
       "    }\n",
       "</style>\n",
       "<table border=\"1\" class=\"dataframe\">\n",
       "  <thead>\n",
       "    <tr style=\"text-align: right;\">\n",
       "      <th></th>\n",
       "      <th>estimated_user_quantile_MCAT</th>\n",
       "      <th>estimated_user_quantile_total_GPA</th>\n",
       "      <th>estimated_user_quantile_sci_GPA</th>\n",
       "    </tr>\n",
       "  </thead>\n",
       "  <tbody>\n",
       "    <tr>\n",
       "      <th>count</th>\n",
       "      <td>139.00000000</td>\n",
       "      <td>139.00000000</td>\n",
       "      <td>139.00000000</td>\n",
       "    </tr>\n",
       "    <tr>\n",
       "      <th>mean</th>\n",
       "      <td>0.39844017</td>\n",
       "      <td>0.27880761</td>\n",
       "      <td>0.17157088</td>\n",
       "    </tr>\n",
       "    <tr>\n",
       "      <th>std</th>\n",
       "      <td>0.23133525</td>\n",
       "      <td>0.13825114</td>\n",
       "      <td>0.11343061</td>\n",
       "    </tr>\n",
       "    <tr>\n",
       "      <th>min</th>\n",
       "      <td>0.00037584</td>\n",
       "      <td>0.00022848</td>\n",
       "      <td>0.00000003</td>\n",
       "    </tr>\n",
       "    <tr>\n",
       "      <th>25%</th>\n",
       "      <td>0.19975407</td>\n",
       "      <td>0.18441512</td>\n",
       "      <td>0.08604451</td>\n",
       "    </tr>\n",
       "    <tr>\n",
       "      <th>50%</th>\n",
       "      <td>0.41111930</td>\n",
       "      <td>0.27602004</td>\n",
       "      <td>0.15600821</td>\n",
       "    </tr>\n",
       "    <tr>\n",
       "      <th>75%</th>\n",
       "      <td>0.58888070</td>\n",
       "      <td>0.38152467</td>\n",
       "      <td>0.25015566</td>\n",
       "    </tr>\n",
       "    <tr>\n",
       "      <th>max</th>\n",
       "      <td>0.88090043</td>\n",
       "      <td>0.66084458</td>\n",
       "      <td>0.48655819</td>\n",
       "    </tr>\n",
       "  </tbody>\n",
       "</table>\n",
       "</div>"
      ],
      "text/plain": [
       "       estimated_user_quantile_MCAT  estimated_user_quantile_total_GPA  \\\n",
       "count                  139.00000000                       139.00000000   \n",
       "mean                     0.39844017                         0.27880761   \n",
       "std                      0.23133525                         0.13825114   \n",
       "min                      0.00037584                         0.00022848   \n",
       "25%                      0.19975407                         0.18441512   \n",
       "50%                      0.41111930                         0.27602004   \n",
       "75%                      0.58888070                         0.38152467   \n",
       "max                      0.88090043                         0.66084458   \n",
       "\n",
       "       estimated_user_quantile_sci_GPA  \n",
       "count                     139.00000000  \n",
       "mean                        0.17157088  \n",
       "std                         0.11343061  \n",
       "min                         0.00000003  \n",
       "25%                         0.08604451  \n",
       "50%                         0.15600821  \n",
       "75%                         0.25015566  \n",
       "max                         0.48655819  "
      ]
     },
     "execution_count": 715,
     "metadata": {},
     "output_type": "execute_result"
    }
   ],
   "source": [
    "# Define function to apply\n",
    "def estimate_user_stats_quantiles(df_row):\n",
    "    # MCAT\n",
    "    mcat_q1   = df_row['MCAT_25th_percentile']\n",
    "    mcat_q2   = df_row['MCAT_50th_percentile']\n",
    "    mcat_mean = mcat_q2\n",
    "    mcat_std  = (mcat_q2 - mcat_q1) / 0.674\n",
    "    user_mcat_percentile = norm.cdf(user_mcat, mcat_mean, mcat_std)\n",
    "    \n",
    "    # Total GPA\n",
    "    total_gpa_q1   = df_row['GPA_total_25th_percentile']\n",
    "    total_gpa_q2   = df_row['GPA_total_50th_percentile']\n",
    "    total_gpa_mean = total_gpa_q2\n",
    "    total_gpa_std  = (total_gpa_q2 - total_gpa_q1) / 0.674\n",
    "    user_total_gpa_percentile = norm.cdf(user_total_gpa, total_gpa_mean, total_gpa_std)\n",
    "    \n",
    "    # Science GPA\n",
    "    sci_gpa_q1   = df_row['GPA_sci_25th_percentile']\n",
    "    sci_gpa_q2   = df_row['GPA_sci_50th_percentile']\n",
    "    sci_gpa_mean = sci_gpa_q2\n",
    "    sci_gpa_std  = (sci_gpa_q2 - sci_gpa_q1) / 0.674\n",
    "    user_sci_gpa_percentile = norm.cdf(user_sci_gpa, sci_gpa_mean, sci_gpa_std)\n",
    "    \n",
    "    # Done\n",
    "    return pd.Series({\n",
    "        'estimated_user_quantile_MCAT':      user_mcat_percentile,\n",
    "        'estimated_user_quantile_total_GPA': user_total_gpa_percentile,\n",
    "        'estimated_user_quantile_sci_GPA':   user_sci_gpa_percentile\n",
    "    })\n",
    "# end estimate_user_stats_quantiles\n",
    "\n",
    "# Apply\n",
    "estimated_cols     = ['estimated_user_quantile_MCAT', 'estimated_user_quantile_total_GPA', 'estimated_user_quantile_sci_GPA']\n",
    "df[estimated_cols] = df.apply(estimate_user_stats_quantiles, axis=1)\n",
    "\n",
    "# Describe\n",
    "df[estimated_cols].describe()"
   ]
  },
  {
   "cell_type": "markdown",
   "id": "26e845b4",
   "metadata": {},
   "source": [
    "### Analyze Odds(Interview | PA Resident)\n",
    "\n",
    "\n",
    "Any odds(interview | PA resident) >= 1 is great, because it means you are that much more likely to get interviewed purely based on living in PA.\n",
    "\n",
    "\n",
    "We do interviews here instead of whether or not they matriculated, because it is common knowledge that no one will turn down an interview, but people most certainly turn down out-of-state schools (assuming they got offers elsewhere) due to inflated out-of-state tuition prices.  In otherwords, the odds of matriculation is potentially more biased than the odds of being interviewed.  3 schools had no interview data, so their matriculation data was used in-place for a rough estimate of what their interview data might be.  Since it was only 3 schools, this imputation method is fine."
   ]
  },
  {
   "cell_type": "code",
   "execution_count": 716,
   "id": "0f5d10fe",
   "metadata": {},
   "outputs": [
    {
     "data": {
      "image/png": "[encoded data removed]",
      "text/plain": [
       "<Figure size 1200x400 with 2 Axes>"
      ]
     },
     "metadata": {},
     "output_type": "display_data"
    }
   ],
   "source": [
    "# Calculate interview odds\n",
    "df['interview_odds_given_PA_resident'] = df['num_interviewed_out_of_state'] / df['num_interviewed_in_state']\n",
    "iona = df['interview_odds_given_PA_resident'].isna()\n",
    "df.loc[iona, 'interview_odds_given_PA_resident'] = df.loc[iona, 'num_matriculated_out_of_state'] / df.loc[iona, 'num_matriculated_in_state']\n",
    "df.loc[df['state'] == 'PA', 'interview_odds_given_PA_resident'] = 1 / df['interview_odds_given_PA_resident']\n",
    "x = df['interview_odds_given_PA_resident'].values\n",
    "\n",
    "# Plot\n",
    "fig, ax = plt.subplots(2, sharex=False, gridspec_kw={'height_ratios': [0.15, 0.85]}, figsize=(12, 4))\n",
    "sns.boxplot( x=x, ax=ax[0], orient='h')\n",
    "sns.histplot(x=x, ax=ax[1], log_scale=True, bins=30, cumulative=True, stat='percent')\n",
    "ax[0].set_xscale(LogScale(axis=0, base=2))\n",
    "ax[0].set_xticks([np.min(x), np.quantile(x, 0.25), np.quantile(x, 0.50), np.quantile(x, 0.75), np.max(x)])\n",
    "ax[0].xaxis.set_major_formatter(StrMethodFormatter('{x:.2f}'))\n",
    "ax[0].xaxis.tick_top()\n",
    "ax[0].set_xlabel('Boxplot of Odds(Interview | PA Resident)')\n",
    "ax[1].set_xscale(LogScale(axis=0, base=2))\n",
    "ax[1].xaxis.set_major_formatter(StrMethodFormatter('{x:.2f}'))\n",
    "ax[1].grid(True, which='both', ls='-')\n",
    "ax[1].set_xticks([2 ** i for i in range(-7, 7 + 1)])\n",
    "ax[1].set_yticks([i for i in range(0, 100 + 10, 10)])\n",
    "ax[1].set_xlabel('Cumulative Histogram of Odds(Interview | PA Resident)')\n",
    "ax[1].set_ylabel('Percent of Medical Schools')\n",
    "plt.show()"
   ]
  },
  {
   "cell_type": "markdown",
   "id": "05837899",
   "metadata": {},
   "source": [
    "### Rank Schools Based on User’s Chances of Acceptance\n",
    "\n",
    "\n",
    "We now have the following metrics that are presumed to be most deterministic of the user being accepted:\n",
    "- Estimated user MCAT quantile\n",
    "- Estimated user total-GPA quantile\n",
    "- Estimated user science-GPA quantile\n",
    "- Odds(interview | PA resident)\n",
    "\n",
    "\n",
    "It's hard to say one metric is more important (weighs more) than the other.  We do know, generally speaking, MCAT is weighed more heavily than total/science GPA on interview committees.  We seek to rank the schools in some sort of pseudo-logical order.  The way this will be done is by counting from 1.0 to 0.0 and keeping track of which schools have all 4 metrics greater than or equal to the counter (a sort of quantile threshold).  This allows us to determine which schools fall at a specific quantile.  If multiple schools fall at a specific quantile, they are sorted by the above 4 metrics in order (so sorted first by MCAT quantile because we can generally say its most important, then by total-GPA quantile, then science-GPA quantile, and finally by Odds).  The result is a pseudo-ranking of schools from best to worst chances of acceptance.  \n",
    "\n",
    "\n",
    "Note the scale: the best school (highest ranking school) has a ranking of 1, and the worst school (lowest ranking school) has a ranking of 139."
   ]
  },
  {
   "cell_type": "code",
   "execution_count": 717,
   "id": "cec64117",
   "metadata": {},
   "outputs": [],
   "source": [
    "# Define function to get a subset of the original DataFrame where the 4 metrics are >= the given quantile threshold\n",
    "def get_subset_with_4_metrics_gte_quantile(quant_thresh):\n",
    "    df_subset = df.copy()\n",
    "    interview_quant_thresh = np.quantile(df_subset['interview_odds_given_PA_resident'].values, quant_thresh)\n",
    "    df_subset = df_subset[df_subset['interview_odds_given_PA_resident']  >= interview_quant_thresh]\n",
    "    df_subset = df_subset[df_subset['estimated_user_quantile_MCAT']      >= quant_thresh]\n",
    "    df_subset = df_subset[df_subset['estimated_user_quantile_total_GPA'] >= quant_thresh]\n",
    "    df_subset = df_subset[df_subset['estimated_user_quantile_sci_GPA']   >= quant_thresh]\n",
    "    return df_subset[\n",
    "        ['name', 'state', *estimated_cols, 'interview_odds_given_PA_resident']\n",
    "    ].sort_values(by=[*estimated_cols, 'interview_odds_given_PA_resident'], ascending=False)\n",
    "# end get_subset_with_4_metrics_gte_quantile\n",
    "\n",
    "# Calculate/print ranking\n",
    "df_ranked = None\n",
    "for quantile_threshold in range(100, 0 - 1, -1):\n",
    "    quantile_threshold = quantile_threshold / 100\n",
    "    df_subset = get_subset_with_4_metrics_gte_quantile(quantile_threshold)\n",
    "    if df_ranked is None and df_subset.shape[0] > 0:\n",
    "        df_ranked = pd.DataFrame(columns=df_subset.columns)\n",
    "        for row_loc_idx in df_subset.index:\n",
    "            df_ranked.loc[df_ranked.shape[0]] = df_subset.loc[row_loc_idx]\n",
    "        #\n",
    "    #\n",
    "    else:\n",
    "        for row_loc_idx in df_subset.index:\n",
    "            if df_subset.loc[row_loc_idx, 'name'] not in df_ranked['name'].values:\n",
    "                df_ranked.loc[df_ranked.shape[0]] = df_subset.loc[row_loc_idx]\n",
    "            #\n",
    "        #\n",
    "    #\n",
    "#\n",
    "df_ranked.index = [i for i in range(1, df_ranked.index.shape[0] + 1)]\n",
    "df_ranked.index.name = 'ranking'\n",
    "assert(df_ranked.shape[0] == 139 and df_ranked['name'].value_counts()[df_ranked['name'].value_counts() > 1].shape[0] == 0)\n",
    "\n",
    "# Save\n",
    "df_ranked.to_csv('med_schools_ranked_relative_to_fiancee.csv')"
   ]
  },
  {
   "cell_type": "markdown",
   "id": "0559ce4d",
   "metadata": {},
   "source": [
    "### Visualize School Rankings By State"
   ]
  },
  {
   "cell_type": "code",
   "execution_count": 718,
   "id": "8bbf0e03",
   "metadata": {},
   "outputs": [
    {
     "data": {
      "application/vnd.plotly.v1+json": {
       "config": {
        "plotlyServerURL": "https://plot.ly"
       },
       "data": [
        {
         "coloraxis": "coloraxis",
         "geo": "geo",
         "hovertemplate": "state=%{location}<br>Ranking=%{z}<extra></extra>",
         "locationmode": "USA-states",
         "locations": [
          "LA",
          "TX",
          "VA",
          "MI",
          "IL",
          "WV",
          "OH",
          "NY",
          "WA",
          "SD",
          "KY",
          "OR",
          "NJ",
          "PA",
          "WI",
          "VT",
          "SC",
          "MN",
          "NC",
          "TN",
          "DC",
          "CT",
          "CA",
          "GA",
          "NV",
          "MA",
          "NM",
          "FL",
          "NH",
          "MD",
          "AL",
          "AR",
          "HI",
          "RI",
          "UT",
          "MO",
          "KS",
          "NE",
          "CO",
          "ND",
          "IN",
          "OK",
          "IA"
         ],
         "name": "",
         "type": "choropleth",
         "z": [
          1,
          2,
          3,
          4,
          5,
          7,
          8,
          9,
          10,
          12,
          14,
          15,
          18,
          20,
          21,
          22,
          25,
          26,
          27,
          28,
          29,
          31,
          33,
          34,
          35,
          37,
          46,
          48,
          49,
          50,
          55,
          58,
          61,
          62,
          67,
          79,
          84,
          85,
          86,
          88,
          90,
          98,
          103
         ]
        }
       ],
       "layout": {
        "coloraxis": {
         "colorbar": {
          "title": {
           "text": "Ranking"
          }
         },
         "colorscale": [
          [
           0,
           "rgb(103,0,13)"
          ],
          [
           0.125,
           "rgb(165,15,21)"
          ],
          [
           0.25,
           "rgb(203,24,29)"
          ],
          [
           0.375,
           "rgb(239,59,44)"
          ],
          [
           0.5,
           "rgb(251,106,74)"
          ],
          [
           0.625,
           "rgb(252,146,114)"
          ],
          [
           0.75,
           "rgb(252,187,161)"
          ],
          [
           0.875,
           "rgb(254,224,210)"
          ],
          [
           1,
           "rgb(255,245,240)"
          ]
         ],
         "showscale": false
        },
        "geo": {
         "center": {},
         "domain": {
          "x": [
           0,
           1
          ],
          "y": [
           0,
           1
          ]
         },
         "scope": "usa"
        },
        "legend": {
         "tracegroupgap": 0
        },
        "margin": {
         "t": 60
        },
        "template": {
         "data": {
          "bar": [
           {
            "error_x": {
             "color": "#2a3f5f"
            },
            "error_y": {
             "color": "#2a3f5f"
            },
            "marker": {
             "line": {
              "color": "#E5ECF6",
              "width": 0.5
             },
             "pattern": {
              "fillmode": "overlay",
              "size": 10,
              "solidity": 0.2
             }
            },
            "type": "bar"
           }
          ],
          "barpolar": [
           {
            "marker": {
             "line": {
              "color": "#E5ECF6",
              "width": 0.5
             },
             "pattern": {
              "fillmode": "overlay",
              "size": 10,
              "solidity": 0.2
             }
            },
            "type": "barpolar"
           }
          ],
          "carpet": [
           {
            "aaxis": {
             "endlinecolor": "#2a3f5f",
             "gridcolor": "white",
             "linecolor": "white",
             "minorgridcolor": "white",
             "startlinecolor": "#2a3f5f"
            },
            "baxis": {
             "endlinecolor": "#2a3f5f",
             "gridcolor": "white",
             "linecolor": "white",
             "minorgridcolor": "white",
             "startlinecolor": "#2a3f5f"
            },
            "type": "carpet"
           }
          ],
          "choropleth": [
           {
            "colorbar": {
             "outlinewidth": 0,
             "ticks": ""
            },
            "type": "choropleth"
           }
          ],
          "contour": [
           {
            "colorbar": {
             "outlinewidth": 0,
             "ticks": ""
            },
            "colorscale": [
             [
              0,
              "#0d0887"
             ],
             [
              0.1111111111111111,
              "#46039f"
             ],
             [
              0.2222222222222222,
              "#7201a8"
             ],
             [
              0.3333333333333333,
              "#9c179e"
             ],
             [
              0.4444444444444444,
              "#bd3786"
             ],
             [
              0.5555555555555556,
              "#d8576b"
             ],
             [
              0.6666666666666666,
              "#ed7953"
             ],
             [
              0.7777777777777778,
              "#fb9f3a"
             ],
             [
              0.8888888888888888,
              "#fdca26"
             ],
             [
              1,
              "#f0f921"
             ]
            ],
            "type": "contour"
           }
          ],
          "contourcarpet": [
           {
            "colorbar": {
             "outlinewidth": 0,
             "ticks": ""
            },
            "type": "contourcarpet"
           }
          ],
          "heatmap": [
           {
            "colorbar": {
             "outlinewidth": 0,
             "ticks": ""
            },
            "colorscale": [
             [
              0,
              "#0d0887"
             ],
             [
              0.1111111111111111,
              "#46039f"
             ],
             [
              0.2222222222222222,
              "#7201a8"
             ],
             [
              0.3333333333333333,
              "#9c179e"
             ],
             [
              0.4444444444444444,
              "#bd3786"
             ],
             [
              0.5555555555555556,
              "#d8576b"
             ],
             [
              0.6666666666666666,
              "#ed7953"
             ],
             [
              0.7777777777777778,
              "#fb9f3a"
             ],
             [
              0.8888888888888888,
              "#fdca26"
             ],
             [
              1,
              "#f0f921"
             ]
            ],
            "type": "heatmap"
           }
          ],
          "heatmapgl": [
           {
            "colorbar": {
             "outlinewidth": 0,
             "ticks": ""
            },
            "colorscale": [
             [
              0,
              "#0d0887"
             ],
             [
              0.1111111111111111,
              "#46039f"
             ],
             [
              0.2222222222222222,
              "#7201a8"
             ],
             [
              0.3333333333333333,
              "#9c179e"
             ],
             [
              0.4444444444444444,
              "#bd3786"
             ],
             [
              0.5555555555555556,
              "#d8576b"
             ],
             [
              0.6666666666666666,
              "#ed7953"
             ],
             [
              0.7777777777777778,
              "#fb9f3a"
             ],
             [
              0.8888888888888888,
              "#fdca26"
             ],
             [
              1,
              "#f0f921"
             ]
            ],
            "type": "heatmapgl"
           }
          ],
          "histogram": [
           {
            "marker": {
             "pattern": {
              "fillmode": "overlay",
              "size": 10,
              "solidity": 0.2
             }
            },
            "type": "histogram"
           }
          ],
          "histogram2d": [
           {
            "colorbar": {
             "outlinewidth": 0,
             "ticks": ""
            },
            "colorscale": [
             [
              0,
              "#0d0887"
             ],
             [
              0.1111111111111111,
              "#46039f"
             ],
             [
              0.2222222222222222,
              "#7201a8"
             ],
             [
              0.3333333333333333,
              "#9c179e"
             ],
             [
              0.4444444444444444,
              "#bd3786"
             ],
             [
              0.5555555555555556,
              "#d8576b"
             ],
             [
              0.6666666666666666,
              "#ed7953"
             ],
             [
              0.7777777777777778,
              "#fb9f3a"
             ],
             [
              0.8888888888888888,
              "#fdca26"
             ],
             [
              1,
              "#f0f921"
             ]
            ],
            "type": "histogram2d"
           }
          ],
          "histogram2dcontour": [
           {
            "colorbar": {
             "outlinewidth": 0,
             "ticks": ""
            },
            "colorscale": [
             [
              0,
              "#0d0887"
             ],
             [
              0.1111111111111111,
              "#46039f"
             ],
             [
              0.2222222222222222,
              "#7201a8"
             ],
             [
              0.3333333333333333,
              "#9c179e"
             ],
             [
              0.4444444444444444,
              "#bd3786"
             ],
             [
              0.5555555555555556,
              "#d8576b"
             ],
             [
              0.6666666666666666,
              "#ed7953"
             ],
             [
              0.7777777777777778,
              "#fb9f3a"
             ],
             [
              0.8888888888888888,
              "#fdca26"
             ],
             [
              1,
              "#f0f921"
             ]
            ],
            "type": "histogram2dcontour"
           }
          ],
          "mesh3d": [
           {
            "colorbar": {
             "outlinewidth": 0,
             "ticks": ""
            },
            "type": "mesh3d"
           }
          ],
          "parcoords": [
           {
            "line": {
             "colorbar": {
              "outlinewidth": 0,
              "ticks": ""
             }
            },
            "type": "parcoords"
           }
          ],
          "pie": [
           {
            "automargin": true,
            "type": "pie"
           }
          ],
          "scatter": [
           {
            "fillpattern": {
             "fillmode": "overlay",
             "size": 10,
             "solidity": 0.2
            },
            "type": "scatter"
           }
          ],
          "scatter3d": [
           {
            "line": {
             "colorbar": {
              "outlinewidth": 0,
              "ticks": ""
             }
            },
            "marker": {
             "colorbar": {
              "outlinewidth": 0,
              "ticks": ""
             }
            },
            "type": "scatter3d"
           }
          ],
          "scattercarpet": [
           {
            "marker": {
             "colorbar": {
              "outlinewidth": 0,
              "ticks": ""
             }
            },
            "type": "scattercarpet"
           }
          ],
          "scattergeo": [
           {
            "marker": {
             "colorbar": {
              "outlinewidth": 0,
              "ticks": ""
             }
            },
            "type": "scattergeo"
           }
          ],
          "scattergl": [
           {
            "marker": {
             "colorbar": {
              "outlinewidth": 0,
              "ticks": ""
             }
            },
            "type": "scattergl"
           }
          ],
          "scattermapbox": [
           {
            "marker": {
             "colorbar": {
              "outlinewidth": 0,
              "ticks": ""
             }
            },
            "type": "scattermapbox"
           }
          ],
          "scatterpolar": [
           {
            "marker": {
             "colorbar": {
              "outlinewidth": 0,
              "ticks": ""
             }
            },
            "type": "scatterpolar"
           }
          ],
          "scatterpolargl": [
           {
            "marker": {
             "colorbar": {
              "outlinewidth": 0,
              "ticks": ""
             }
            },
            "type": "scatterpolargl"
           }
          ],
          "scatterternary": [
           {
            "marker": {
             "colorbar": {
              "outlinewidth": 0,
              "ticks": ""
             }
            },
            "type": "scatterternary"
           }
          ],
          "surface": [
           {
            "colorbar": {
             "outlinewidth": 0,
             "ticks": ""
            },
            "colorscale": [
             [
              0,
              "#0d0887"
             ],
             [
              0.1111111111111111,
              "#46039f"
             ],
             [
              0.2222222222222222,
              "#7201a8"
             ],
             [
              0.3333333333333333,
              "#9c179e"
             ],
             [
              0.4444444444444444,
              "#bd3786"
             ],
             [
              0.5555555555555556,
              "#d8576b"
             ],
             [
              0.6666666666666666,
              "#ed7953"
             ],
             [
              0.7777777777777778,
              "#fb9f3a"
             ],
             [
              0.8888888888888888,
              "#fdca26"
             ],
             [
              1,
              "#f0f921"
             ]
            ],
            "type": "surface"
           }
          ],
          "table": [
           {
            "cells": {
             "fill": {
              "color": "#EBF0F8"
             },
             "line": {
              "color": "white"
             }
            },
            "header": {
             "fill": {
              "color": "#C8D4E3"
             },
             "line": {
              "color": "white"
             }
            },
            "type": "table"
           }
          ]
         },
         "layout": {
          "annotationdefaults": {
           "arrowcolor": "#2a3f5f",
           "arrowhead": 0,
           "arrowwidth": 1
          },
          "autotypenumbers": "strict",
          "coloraxis": {
           "colorbar": {
            "outlinewidth": 0,
            "ticks": ""
           }
          },
          "colorscale": {
           "diverging": [
            [
             0,
             "#8e0152"
            ],
            [
             0.1,
             "#c51b7d"
            ],
            [
             0.2,
             "#de77ae"
            ],
            [
             0.3,
             "#f1b6da"
            ],
            [
             0.4,
             "#fde0ef"
            ],
            [
             0.5,
             "#f7f7f7"
            ],
            [
             0.6,
             "#e6f5d0"
            ],
            [
             0.7,
             "#b8e186"
            ],
            [
             0.8,
             "#7fbc41"
            ],
            [
             0.9,
             "#4d9221"
            ],
            [
             1,
             "#276419"
            ]
           ],
           "sequential": [
            [
             0,
             "#0d0887"
            ],
            [
             0.1111111111111111,
             "#46039f"
            ],
            [
             0.2222222222222222,
             "#7201a8"
            ],
            [
             0.3333333333333333,
             "#9c179e"
            ],
            [
             0.4444444444444444,
             "#bd3786"
            ],
            [
             0.5555555555555556,
             "#d8576b"
            ],
            [
             0.6666666666666666,
             "#ed7953"
            ],
            [
             0.7777777777777778,
             "#fb9f3a"
            ],
            [
             0.8888888888888888,
             "#fdca26"
            ],
            [
             1,
             "#f0f921"
            ]
           ],
           "sequentialminus": [
            [
             0,
             "#0d0887"
            ],
            [
             0.1111111111111111,
             "#46039f"
            ],
            [
             0.2222222222222222,
             "#7201a8"
            ],
            [
             0.3333333333333333,
             "#9c179e"
            ],
            [
             0.4444444444444444,
             "#bd3786"
            ],
            [
             0.5555555555555556,
             "#d8576b"
            ],
            [
             0.6666666666666666,
             "#ed7953"
            ],
            [
             0.7777777777777778,
             "#fb9f3a"
            ],
            [
             0.8888888888888888,
             "#fdca26"
            ],
            [
             1,
             "#f0f921"
            ]
           ]
          },
          "colorway": [
           "#636efa",
           "#EF553B",
           "#00cc96",
           "#ab63fa",
           "#FFA15A",
           "#19d3f3",
           "#FF6692",
           "#B6E880",
           "#FF97FF",
           "#FECB52"
          ],
          "font": {
           "color": "#2a3f5f"
          },
          "geo": {
           "bgcolor": "white",
           "lakecolor": "white",
           "landcolor": "#E5ECF6",
           "showlakes": true,
           "showland": true,
           "subunitcolor": "white"
          },
          "hoverlabel": {
           "align": "left"
          },
          "hovermode": "closest",
          "mapbox": {
           "style": "light"
          },
          "paper_bgcolor": "white",
          "plot_bgcolor": "#E5ECF6",
          "polar": {
           "angularaxis": {
            "gridcolor": "white",
            "linecolor": "white",
            "ticks": ""
           },
           "bgcolor": "#E5ECF6",
           "radialaxis": {
            "gridcolor": "white",
            "linecolor": "white",
            "ticks": ""
           }
          },
          "scene": {
           "xaxis": {
            "backgroundcolor": "#E5ECF6",
            "gridcolor": "white",
            "gridwidth": 2,
            "linecolor": "white",
            "showbackground": true,
            "ticks": "",
            "zerolinecolor": "white"
           },
           "yaxis": {
            "backgroundcolor": "#E5ECF6",
            "gridcolor": "white",
            "gridwidth": 2,
            "linecolor": "white",
            "showbackground": true,
            "ticks": "",
            "zerolinecolor": "white"
           },
           "zaxis": {
            "backgroundcolor": "#E5ECF6",
            "gridcolor": "white",
            "gridwidth": 2,
            "linecolor": "white",
            "showbackground": true,
            "ticks": "",
            "zerolinecolor": "white"
           }
          },
          "shapedefaults": {
           "line": {
            "color": "#2a3f5f"
           }
          },
          "ternary": {
           "aaxis": {
            "gridcolor": "white",
            "linecolor": "white",
            "ticks": ""
           },
           "baxis": {
            "gridcolor": "white",
            "linecolor": "white",
            "ticks": ""
           },
           "bgcolor": "#E5ECF6",
           "caxis": {
            "gridcolor": "white",
            "linecolor": "white",
            "ticks": ""
           }
          },
          "title": {
           "x": 0.05
          },
          "xaxis": {
           "automargin": true,
           "gridcolor": "white",
           "linecolor": "white",
           "ticks": "",
           "title": {
            "standoff": 15
           },
           "zerolinecolor": "white",
           "zerolinewidth": 2
          },
          "yaxis": {
           "automargin": true,
           "gridcolor": "white",
           "linecolor": "white",
           "ticks": "",
           "title": {
            "standoff": 15
           },
           "zerolinecolor": "white",
           "zerolinewidth": 2
          }
         }
        },
        "title": {
         "font": {
          "color": "black",
          "family": "Times New Roman",
          "size": 22
         },
         "text": "School Ranking by State (Darker = State Contains a Higher Ranking School; More Likely to Get Accepted)",
         "x": 0.45
        }
       }
      },
      "text/html": [
       "<div>                            <div id=\"8158e37a-7bf7-4213-afd2-b0e32a2f704c\" class=\"plotly-graph-div\" style=\"height:525px; width:100%;\"></div>            <script type=\"text/javascript\">                require([\"plotly\"], function(Plotly) {                    window.PLOTLYENV=window.PLOTLYENV || {};                                    if (document.getElementById(\"8158e37a-7bf7-4213-afd2-b0e32a2f704c\")) {                    Plotly.newPlot(                        \"8158e37a-7bf7-4213-afd2-b0e32a2f704c\",                        [{\"coloraxis\":\"coloraxis\",\"geo\":\"geo\",\"hovertemplate\":\"state=%{location}<br>Ranking=%{z}<extra></extra>\",\"locationmode\":\"USA-states\",\"locations\":[\"LA\",\"TX\",\"VA\",\"MI\",\"IL\",\"WV\",\"OH\",\"NY\",\"WA\",\"SD\",\"KY\",\"OR\",\"NJ\",\"PA\",\"WI\",\"VT\",\"SC\",\"MN\",\"NC\",\"TN\",\"DC\",\"CT\",\"CA\",\"GA\",\"NV\",\"MA\",\"NM\",\"FL\",\"NH\",\"MD\",\"AL\",\"AR\",\"HI\",\"RI\",\"UT\",\"MO\",\"KS\",\"NE\",\"CO\",\"ND\",\"IN\",\"OK\",\"IA\"],\"name\":\"\",\"z\":[1,2,3,4,5,7,8,9,10,12,14,15,18,20,21,22,25,26,27,28,29,31,33,34,35,37,46,48,49,50,55,58,61,62,67,79,84,85,86,88,90,98,103],\"type\":\"choropleth\"}],                        {\"template\":{\"data\":{\"histogram2dcontour\":[{\"type\":\"histogram2dcontour\",\"colorbar\":{\"outlinewidth\":0,\"ticks\":\"\"},\"colorscale\":[[0.0,\"#0d0887\"],[0.1111111111111111,\"#46039f\"],[0.2222222222222222,\"#7201a8\"],[0.3333333333333333,\"#9c179e\"],[0.4444444444444444,\"#bd3786\"],[0.5555555555555556,\"#d8576b\"],[0.6666666666666666,\"#ed7953\"],[0.7777777777777778,\"#fb9f3a\"],[0.8888888888888888,\"#fdca26\"],[1.0,\"#f0f921\"]]}],\"choropleth\":[{\"type\":\"choropleth\",\"colorbar\":{\"outlinewidth\":0,\"ticks\":\"\"}}],\"histogram2d\":[{\"type\":\"histogram2d\",\"colorbar\":{\"outlinewidth\":0,\"ticks\":\"\"},\"colorscale\":[[0.0,\"#0d0887\"],[0.1111111111111111,\"#46039f\"],[0.2222222222222222,\"#7201a8\"],[0.3333333333333333,\"#9c179e\"],[0.4444444444444444,\"#bd3786\"],[0.5555555555555556,\"#d8576b\"],[0.6666666666666666,\"#ed7953\"],[0.7777777777777778,\"#fb9f3a\"],[0.8888888888888888,\"#fdca26\"],[1.0,\"#f0f921\"]]}],\"heatmap\":[{\"type\":\"heatmap\",\"colorbar\":{\"outlinewidth\":0,\"ticks\":\"\"},\"colorscale\":[[0.0,\"#0d0887\"],[0.1111111111111111,\"#46039f\"],[0.2222222222222222,\"#7201a8\"],[0.3333333333333333,\"#9c179e\"],[0.4444444444444444,\"#bd3786\"],[0.5555555555555556,\"#d8576b\"],[0.6666666666666666,\"#ed7953\"],[0.7777777777777778,\"#fb9f3a\"],[0.8888888888888888,\"#fdca26\"],[1.0,\"#f0f921\"]]}],\"heatmapgl\":[{\"type\":\"heatmapgl\",\"colorbar\":{\"outlinewidth\":0,\"ticks\":\"\"},\"colorscale\":[[0.0,\"#0d0887\"],[0.1111111111111111,\"#46039f\"],[0.2222222222222222,\"#7201a8\"],[0.3333333333333333,\"#9c179e\"],[0.4444444444444444,\"#bd3786\"],[0.5555555555555556,\"#d8576b\"],[0.6666666666666666,\"#ed7953\"],[0.7777777777777778,\"#fb9f3a\"],[0.8888888888888888,\"#fdca26\"],[1.0,\"#f0f921\"]]}],\"contourcarpet\":[{\"type\":\"contourcarpet\",\"colorbar\":{\"outlinewidth\":0,\"ticks\":\"\"}}],\"contour\":[{\"type\":\"contour\",\"colorbar\":{\"outlinewidth\":0,\"ticks\":\"\"},\"colorscale\":[[0.0,\"#0d0887\"],[0.1111111111111111,\"#46039f\"],[0.2222222222222222,\"#7201a8\"],[0.3333333333333333,\"#9c179e\"],[0.4444444444444444,\"#bd3786\"],[0.5555555555555556,\"#d8576b\"],[0.6666666666666666,\"#ed7953\"],[0.7777777777777778,\"#fb9f3a\"],[0.8888888888888888,\"#fdca26\"],[1.0,\"#f0f921\"]]}],\"surface\":[{\"type\":\"surface\",\"colorbar\":{\"outlinewidth\":0,\"ticks\":\"\"},\"colorscale\":[[0.0,\"#0d0887\"],[0.1111111111111111,\"#46039f\"],[0.2222222222222222,\"#7201a8\"],[0.3333333333333333,\"#9c179e\"],[0.4444444444444444,\"#bd3786\"],[0.5555555555555556,\"#d8576b\"],[0.6666666666666666,\"#ed7953\"],[0.7777777777777778,\"#fb9f3a\"],[0.8888888888888888,\"#fdca26\"],[1.0,\"#f0f921\"]]}],\"mesh3d\":[{\"type\":\"mesh3d\",\"colorbar\":{\"outlinewidth\":0,\"ticks\":\"\"}}],\"scatter\":[{\"fillpattern\":{\"fillmode\":\"overlay\",\"size\":10,\"solidity\":0.2},\"type\":\"scatter\"}],\"parcoords\":[{\"type\":\"parcoords\",\"line\":{\"colorbar\":{\"outlinewidth\":0,\"ticks\":\"\"}}}],\"scatterpolargl\":[{\"type\":\"scatterpolargl\",\"marker\":{\"colorbar\":{\"outlinewidth\":0,\"ticks\":\"\"}}}],\"bar\":[{\"error_x\":{\"color\":\"#2a3f5f\"},\"error_y\":{\"color\":\"#2a3f5f\"},\"marker\":{\"line\":{\"color\":\"#E5ECF6\",\"width\":0.5},\"pattern\":{\"fillmode\":\"overlay\",\"size\":10,\"solidity\":0.2}},\"type\":\"bar\"}],\"scattergeo\":[{\"type\":\"scattergeo\",\"marker\":{\"colorbar\":{\"outlinewidth\":0,\"ticks\":\"\"}}}],\"scatterpolar\":[{\"type\":\"scatterpolar\",\"marker\":{\"colorbar\":{\"outlinewidth\":0,\"ticks\":\"\"}}}],\"histogram\":[{\"marker\":{\"pattern\":{\"fillmode\":\"overlay\",\"size\":10,\"solidity\":0.2}},\"type\":\"histogram\"}],\"scattergl\":[{\"type\":\"scattergl\",\"marker\":{\"colorbar\":{\"outlinewidth\":0,\"ticks\":\"\"}}}],\"scatter3d\":[{\"type\":\"scatter3d\",\"line\":{\"colorbar\":{\"outlinewidth\":0,\"ticks\":\"\"}},\"marker\":{\"colorbar\":{\"outlinewidth\":0,\"ticks\":\"\"}}}],\"scattermapbox\":[{\"type\":\"scattermapbox\",\"marker\":{\"colorbar\":{\"outlinewidth\":0,\"ticks\":\"\"}}}],\"scatterternary\":[{\"type\":\"scatterternary\",\"marker\":{\"colorbar\":{\"outlinewidth\":0,\"ticks\":\"\"}}}],\"scattercarpet\":[{\"type\":\"scattercarpet\",\"marker\":{\"colorbar\":{\"outlinewidth\":0,\"ticks\":\"\"}}}],\"carpet\":[{\"aaxis\":{\"endlinecolor\":\"#2a3f5f\",\"gridcolor\":\"white\",\"linecolor\":\"white\",\"minorgridcolor\":\"white\",\"startlinecolor\":\"#2a3f5f\"},\"baxis\":{\"endlinecolor\":\"#2a3f5f\",\"gridcolor\":\"white\",\"linecolor\":\"white\",\"minorgridcolor\":\"white\",\"startlinecolor\":\"#2a3f5f\"},\"type\":\"carpet\"}],\"table\":[{\"cells\":{\"fill\":{\"color\":\"#EBF0F8\"},\"line\":{\"color\":\"white\"}},\"header\":{\"fill\":{\"color\":\"#C8D4E3\"},\"line\":{\"color\":\"white\"}},\"type\":\"table\"}],\"barpolar\":[{\"marker\":{\"line\":{\"color\":\"#E5ECF6\",\"width\":0.5},\"pattern\":{\"fillmode\":\"overlay\",\"size\":10,\"solidity\":0.2}},\"type\":\"barpolar\"}],\"pie\":[{\"automargin\":true,\"type\":\"pie\"}]},\"layout\":{\"autotypenumbers\":\"strict\",\"colorway\":[\"#636efa\",\"#EF553B\",\"#00cc96\",\"#ab63fa\",\"#FFA15A\",\"#19d3f3\",\"#FF6692\",\"#B6E880\",\"#FF97FF\",\"#FECB52\"],\"font\":{\"color\":\"#2a3f5f\"},\"hovermode\":\"closest\",\"hoverlabel\":{\"align\":\"left\"},\"paper_bgcolor\":\"white\",\"plot_bgcolor\":\"#E5ECF6\",\"polar\":{\"bgcolor\":\"#E5ECF6\",\"angularaxis\":{\"gridcolor\":\"white\",\"linecolor\":\"white\",\"ticks\":\"\"},\"radialaxis\":{\"gridcolor\":\"white\",\"linecolor\":\"white\",\"ticks\":\"\"}},\"ternary\":{\"bgcolor\":\"#E5ECF6\",\"aaxis\":{\"gridcolor\":\"white\",\"linecolor\":\"white\",\"ticks\":\"\"},\"baxis\":{\"gridcolor\":\"white\",\"linecolor\":\"white\",\"ticks\":\"\"},\"caxis\":{\"gridcolor\":\"white\",\"linecolor\":\"white\",\"ticks\":\"\"}},\"coloraxis\":{\"colorbar\":{\"outlinewidth\":0,\"ticks\":\"\"}},\"colorscale\":{\"sequential\":[[0.0,\"#0d0887\"],[0.1111111111111111,\"#46039f\"],[0.2222222222222222,\"#7201a8\"],[0.3333333333333333,\"#9c179e\"],[0.4444444444444444,\"#bd3786\"],[0.5555555555555556,\"#d8576b\"],[0.6666666666666666,\"#ed7953\"],[0.7777777777777778,\"#fb9f3a\"],[0.8888888888888888,\"#fdca26\"],[1.0,\"#f0f921\"]],\"sequentialminus\":[[0.0,\"#0d0887\"],[0.1111111111111111,\"#46039f\"],[0.2222222222222222,\"#7201a8\"],[0.3333333333333333,\"#9c179e\"],[0.4444444444444444,\"#bd3786\"],[0.5555555555555556,\"#d8576b\"],[0.6666666666666666,\"#ed7953\"],[0.7777777777777778,\"#fb9f3a\"],[0.8888888888888888,\"#fdca26\"],[1.0,\"#f0f921\"]],\"diverging\":[[0,\"#8e0152\"],[0.1,\"#c51b7d\"],[0.2,\"#de77ae\"],[0.3,\"#f1b6da\"],[0.4,\"#fde0ef\"],[0.5,\"#f7f7f7\"],[0.6,\"#e6f5d0\"],[0.7,\"#b8e186\"],[0.8,\"#7fbc41\"],[0.9,\"#4d9221\"],[1,\"#276419\"]]},\"xaxis\":{\"gridcolor\":\"white\",\"linecolor\":\"white\",\"ticks\":\"\",\"title\":{\"standoff\":15},\"zerolinecolor\":\"white\",\"automargin\":true,\"zerolinewidth\":2},\"yaxis\":{\"gridcolor\":\"white\",\"linecolor\":\"white\",\"ticks\":\"\",\"title\":{\"standoff\":15},\"zerolinecolor\":\"white\",\"automargin\":true,\"zerolinewidth\":2},\"scene\":{\"xaxis\":{\"backgroundcolor\":\"#E5ECF6\",\"gridcolor\":\"white\",\"linecolor\":\"white\",\"showbackground\":true,\"ticks\":\"\",\"zerolinecolor\":\"white\",\"gridwidth\":2},\"yaxis\":{\"backgroundcolor\":\"#E5ECF6\",\"gridcolor\":\"white\",\"linecolor\":\"white\",\"showbackground\":true,\"ticks\":\"\",\"zerolinecolor\":\"white\",\"gridwidth\":2},\"zaxis\":{\"backgroundcolor\":\"#E5ECF6\",\"gridcolor\":\"white\",\"linecolor\":\"white\",\"showbackground\":true,\"ticks\":\"\",\"zerolinecolor\":\"white\",\"gridwidth\":2}},\"shapedefaults\":{\"line\":{\"color\":\"#2a3f5f\"}},\"annotationdefaults\":{\"arrowcolor\":\"#2a3f5f\",\"arrowhead\":0,\"arrowwidth\":1},\"geo\":{\"bgcolor\":\"white\",\"landcolor\":\"#E5ECF6\",\"subunitcolor\":\"white\",\"showland\":true,\"showlakes\":true,\"lakecolor\":\"white\"},\"title\":{\"x\":0.05},\"mapbox\":{\"style\":\"light\"}}},\"geo\":{\"domain\":{\"x\":[0.0,1.0],\"y\":[0.0,1.0]},\"center\":{},\"scope\":\"usa\"},\"coloraxis\":{\"colorbar\":{\"title\":{\"text\":\"Ranking\"}},\"colorscale\":[[0.0,\"rgb(103,0,13)\"],[0.125,\"rgb(165,15,21)\"],[0.25,\"rgb(203,24,29)\"],[0.375,\"rgb(239,59,44)\"],[0.5,\"rgb(251,106,74)\"],[0.625,\"rgb(252,146,114)\"],[0.75,\"rgb(252,187,161)\"],[0.875,\"rgb(254,224,210)\"],[1.0,\"rgb(255,245,240)\"]],\"showscale\":false},\"legend\":{\"tracegroupgap\":0},\"margin\":{\"t\":60},\"title\":{\"font\":{\"family\":\"Times New Roman\",\"size\":22,\"color\":\"black\"},\"text\":\"School Ranking by State (Darker = State Contains a Higher Ranking School; More Likely to Get Accepted)\",\"x\":0.45}},                        {\"responsive\": true}                    ).then(function(){\n",
       "                            \n",
       "var gd = document.getElementById('8158e37a-7bf7-4213-afd2-b0e32a2f704c');\n",
       "var x = new MutationObserver(function (mutations, observer) {{\n",
       "        var display = window.getComputedStyle(gd).display;\n",
       "        if (!display || display === 'none') {{\n",
       "            console.log([gd, 'removed!']);\n",
       "            Plotly.purge(gd);\n",
       "            observer.disconnect();\n",
       "        }}\n",
       "}});\n",
       "\n",
       "// Listen for the removal of the full notebook cells\n",
       "var notebookContainer = gd.closest('#notebook-container');\n",
       "if (notebookContainer) {{\n",
       "    x.observe(notebookContainer, {childList: true});\n",
       "}}\n",
       "\n",
       "// Listen for the clearing of the current output cell\n",
       "var outputEl = gd.closest('.output');\n",
       "if (outputEl) {{\n",
       "    x.observe(outputEl, {childList: true});\n",
       "}}\n",
       "\n",
       "                        })                };                });            </script>        </div>"
      ]
     },
     "metadata": {},
     "output_type": "display_data"
    }
   ],
   "source": [
    "df_choro = None\n",
    "for ranking in df_ranked.index:\n",
    "    if df_choro is None:\n",
    "        df_choro = df_ranked.loc[[ranking]]\n",
    "    #\n",
    "    elif df_ranked.loc[ranking, 'state'] not in df_choro['state'].values:\n",
    "        df_choro.loc[ranking] = df_ranked.loc[ranking]\n",
    "    #\n",
    "#\n",
    "df_choro.index.name = 'Ranking'\n",
    "fig = px.choropleth(\n",
    "    df_choro,\n",
    "    locations=df_choro['state'], \n",
    "    locationmode='USA-states', \n",
    "    scope='usa',\n",
    "    color=df_choro.index,\n",
    "    color_continuous_scale='reds_r'\n",
    ")\n",
    "fig.update_layout(\n",
    "    title_text = 'School Ranking by State (Darker = State Contains a Higher Ranking School; More Likely to Get Accepted)',\n",
    "    title_font_family='Times New Roman',\n",
    "    title_font_size = 22,\n",
    "    title_font_color='black', \n",
    "    title_x=0.45,\n",
    "    coloraxis_showscale=False\n",
    ")\n",
    "fig.show()"
   ]
  },
  {
   "cell_type": "markdown",
   "id": "2cce3402",
   "metadata": {},
   "source": [
    "### Select Schools to Apply to\n",
    "\n",
    "\n",
    "Finally, we can select/list the top 20 schools that the user is most likely to be accepted into."
   ]
  },
  {
   "cell_type": "code",
   "execution_count": 719,
   "id": "52adaa14",
   "metadata": {},
   "outputs": [
    {
     "data": {
      "text/html": [
       "<div>\n",
       "<style scoped>\n",
       "    .dataframe tbody tr th:only-of-type {\n",
       "        vertical-align: middle;\n",
       "    }\n",
       "\n",
       "    .dataframe tbody tr th {\n",
       "        vertical-align: top;\n",
       "    }\n",
       "\n",
       "    .dataframe thead th {\n",
       "        text-align: right;\n",
       "    }\n",
       "</style>\n",
       "<table border=\"1\" class=\"dataframe\">\n",
       "  <thead>\n",
       "    <tr style=\"text-align: right;\">\n",
       "      <th></th>\n",
       "      <th>name</th>\n",
       "      <th>state</th>\n",
       "      <th>estimated_user_quantile_MCAT</th>\n",
       "      <th>estimated_user_quantile_total_GPA</th>\n",
       "      <th>estimated_user_quantile_sci_GPA</th>\n",
       "      <th>interview_odds_given_PA_resident</th>\n",
       "    </tr>\n",
       "    <tr>\n",
       "      <th>ranking</th>\n",
       "      <th></th>\n",
       "      <th></th>\n",
       "      <th></th>\n",
       "      <th></th>\n",
       "      <th></th>\n",
       "      <th></th>\n",
       "    </tr>\n",
       "  </thead>\n",
       "  <tbody>\n",
       "    <tr>\n",
       "      <th>1</th>\n",
       "      <td>Tulane University School of Medicine</td>\n",
       "      <td>LA</td>\n",
       "      <td>0.60626600</td>\n",
       "      <td>0.53703452</td>\n",
       "      <td>0.46744384</td>\n",
       "      <td>5.75268817</td>\n",
       "    </tr>\n",
       "    <tr>\n",
       "      <th>2</th>\n",
       "      <td>Anne Burnett Marion School of Medicine at TCU</td>\n",
       "      <td>TX</td>\n",
       "      <td>0.63194155</td>\n",
       "      <td>0.52828018</td>\n",
       "      <td>0.44638500</td>\n",
       "      <td>2.18348624</td>\n",
       "    </tr>\n",
       "    <tr>\n",
       "      <th>3</th>\n",
       "      <td>Virginia Tech Carilion School of Medicine</td>\n",
       "      <td>VA</td>\n",
       "      <td>0.50000000</td>\n",
       "      <td>0.66084458</td>\n",
       "      <td>0.40675513</td>\n",
       "      <td>4.93750000</td>\n",
       "    </tr>\n",
       "    <tr>\n",
       "      <th>4</th>\n",
       "      <td>Central Michigan University College of Medicine</td>\n",
       "      <td>MI</td>\n",
       "      <td>0.74984434</td>\n",
       "      <td>0.50000000</td>\n",
       "      <td>0.38941912</td>\n",
       "      <td>0.51290323</td>\n",
       "    </tr>\n",
       "    <tr>\n",
       "      <th>5</th>\n",
       "      <td>Rush Medical College of Rush University Medica...</td>\n",
       "      <td>IL</td>\n",
       "      <td>0.58888070</td>\n",
       "      <td>0.48418725</td>\n",
       "      <td>0.34521458</td>\n",
       "      <td>3.64285714</td>\n",
       "    </tr>\n",
       "    <tr>\n",
       "      <th>6</th>\n",
       "      <td>University of Illinois College of Medicine</td>\n",
       "      <td>IL</td>\n",
       "      <td>0.55361500</td>\n",
       "      <td>0.48655819</td>\n",
       "      <td>0.34869498</td>\n",
       "      <td>0.90556901</td>\n",
       "    </tr>\n",
       "    <tr>\n",
       "      <th>7</th>\n",
       "      <td>Marshall University Joan C. Edwards School of ...</td>\n",
       "      <td>WV</td>\n",
       "      <td>0.88090043</td>\n",
       "      <td>0.42207681</td>\n",
       "      <td>0.35006579</td>\n",
       "      <td>0.41216216</td>\n",
       "    </tr>\n",
       "    <tr>\n",
       "      <th>8</th>\n",
       "      <td>The University of Toledo College of Medicine a...</td>\n",
       "      <td>OH</td>\n",
       "      <td>0.58888070</td>\n",
       "      <td>0.41509630</td>\n",
       "      <td>0.33183975</td>\n",
       "      <td>0.47019868</td>\n",
       "    </tr>\n",
       "    <tr>\n",
       "      <th>9</th>\n",
       "      <td>New York Medical College</td>\n",
       "      <td>NY</td>\n",
       "      <td>0.32659561</td>\n",
       "      <td>0.48506532</td>\n",
       "      <td>0.34295930</td>\n",
       "      <td>1.04102564</td>\n",
       "    </tr>\n",
       "    <tr>\n",
       "      <th>10</th>\n",
       "      <td>University of Washington School of Medicine</td>\n",
       "      <td>WA</td>\n",
       "      <td>0.55361500</td>\n",
       "      <td>0.41988019</td>\n",
       "      <td>0.31116937</td>\n",
       "      <td>0.68815331</td>\n",
       "    </tr>\n",
       "    <tr>\n",
       "      <th>11</th>\n",
       "      <td>Wright State University Boonshoft School of Me...</td>\n",
       "      <td>OH</td>\n",
       "      <td>0.74984434</td>\n",
       "      <td>0.41111930</td>\n",
       "      <td>0.30456688</td>\n",
       "      <td>0.37748344</td>\n",
       "    </tr>\n",
       "    <tr>\n",
       "      <th>12</th>\n",
       "      <td>University of South Dakota, Sanford School of ...</td>\n",
       "      <td>SD</td>\n",
       "      <td>0.74984434</td>\n",
       "      <td>0.36805845</td>\n",
       "      <td>0.30006199</td>\n",
       "      <td>0.80158730</td>\n",
       "    </tr>\n",
       "    <tr>\n",
       "      <th>13</th>\n",
       "      <td>Northeast Ohio Medical University</td>\n",
       "      <td>OH</td>\n",
       "      <td>0.65704070</td>\n",
       "      <td>0.39599047</td>\n",
       "      <td>0.30267116</td>\n",
       "      <td>1.21003135</td>\n",
       "    </tr>\n",
       "    <tr>\n",
       "      <th>14</th>\n",
       "      <td>University of Louisville School of Medicine</td>\n",
       "      <td>KY</td>\n",
       "      <td>0.81558488</td>\n",
       "      <td>0.39868129</td>\n",
       "      <td>0.29820455</td>\n",
       "      <td>0.51315789</td>\n",
       "    </tr>\n",
       "    <tr>\n",
       "      <th>15</th>\n",
       "      <td>Oregon Health &amp; Science University School of M...</td>\n",
       "      <td>OR</td>\n",
       "      <td>0.50000000</td>\n",
       "      <td>0.40194504</td>\n",
       "      <td>0.29820455</td>\n",
       "      <td>1.18875502</td>\n",
       "    </tr>\n",
       "    <tr>\n",
       "      <th>16</th>\n",
       "      <td>Eastern Virginia Medical School</td>\n",
       "      <td>VA</td>\n",
       "      <td>0.41111930</td>\n",
       "      <td>0.46338513</td>\n",
       "      <td>0.29893075</td>\n",
       "      <td>1.07823961</td>\n",
       "    </tr>\n",
       "    <tr>\n",
       "      <th>17</th>\n",
       "      <td>SUNY Downstate Health Sciences University Coll...</td>\n",
       "      <td>NY</td>\n",
       "      <td>0.43309497</td>\n",
       "      <td>0.42364731</td>\n",
       "      <td>0.27099400</td>\n",
       "      <td>0.36433260</td>\n",
       "    </tr>\n",
       "    <tr>\n",
       "      <th>18</th>\n",
       "      <td>Rutgers, Robert Wood Johnson Medical School</td>\n",
       "      <td>NJ</td>\n",
       "      <td>0.43309497</td>\n",
       "      <td>0.41572506</td>\n",
       "      <td>0.27002834</td>\n",
       "      <td>0.38547486</td>\n",
       "    </tr>\n",
       "    <tr>\n",
       "      <th>19</th>\n",
       "      <td>Albany Medical College</td>\n",
       "      <td>NY</td>\n",
       "      <td>0.63194155</td>\n",
       "      <td>0.41785475</td>\n",
       "      <td>0.26156556</td>\n",
       "      <td>1.80694981</td>\n",
       "    </tr>\n",
       "    <tr>\n",
       "      <th>20</th>\n",
       "      <td>Lewis Katz School of Medicine at Temple Univer...</td>\n",
       "      <td>PA</td>\n",
       "      <td>0.50000000</td>\n",
       "      <td>0.41111930</td>\n",
       "      <td>0.26914817</td>\n",
       "      <td>0.45404664</td>\n",
       "    </tr>\n",
       "  </tbody>\n",
       "</table>\n",
       "</div>"
      ],
      "text/plain": [
       "                                                      name state  \\\n",
       "ranking                                                            \n",
       "1                     Tulane University School of Medicine    LA   \n",
       "2            Anne Burnett Marion School of Medicine at TCU    TX   \n",
       "3                Virginia Tech Carilion School of Medicine    VA   \n",
       "4          Central Michigan University College of Medicine    MI   \n",
       "5        Rush Medical College of Rush University Medica...    IL   \n",
       "6               University of Illinois College of Medicine    IL   \n",
       "7        Marshall University Joan C. Edwards School of ...    WV   \n",
       "8        The University of Toledo College of Medicine a...    OH   \n",
       "9                                 New York Medical College    NY   \n",
       "10             University of Washington School of Medicine    WA   \n",
       "11       Wright State University Boonshoft School of Me...    OH   \n",
       "12       University of South Dakota, Sanford School of ...    SD   \n",
       "13                       Northeast Ohio Medical University    OH   \n",
       "14             University of Louisville School of Medicine    KY   \n",
       "15       Oregon Health & Science University School of M...    OR   \n",
       "16                         Eastern Virginia Medical School    VA   \n",
       "17       SUNY Downstate Health Sciences University Coll...    NY   \n",
       "18             Rutgers, Robert Wood Johnson Medical School    NJ   \n",
       "19                                  Albany Medical College    NY   \n",
       "20       Lewis Katz School of Medicine at Temple Univer...    PA   \n",
       "\n",
       "        estimated_user_quantile_MCAT estimated_user_quantile_total_GPA  \\\n",
       "ranking                                                                  \n",
       "1                         0.60626600                        0.53703452   \n",
       "2                         0.63194155                        0.52828018   \n",
       "3                         0.50000000                        0.66084458   \n",
       "4                         0.74984434                        0.50000000   \n",
       "5                         0.58888070                        0.48418725   \n",
       "6                         0.55361500                        0.48655819   \n",
       "7                         0.88090043                        0.42207681   \n",
       "8                         0.58888070                        0.41509630   \n",
       "9                         0.32659561                        0.48506532   \n",
       "10                        0.55361500                        0.41988019   \n",
       "11                        0.74984434                        0.41111930   \n",
       "12                        0.74984434                        0.36805845   \n",
       "13                        0.65704070                        0.39599047   \n",
       "14                        0.81558488                        0.39868129   \n",
       "15                        0.50000000                        0.40194504   \n",
       "16                        0.41111930                        0.46338513   \n",
       "17                        0.43309497                        0.42364731   \n",
       "18                        0.43309497                        0.41572506   \n",
       "19                        0.63194155                        0.41785475   \n",
       "20                        0.50000000                        0.41111930   \n",
       "\n",
       "        estimated_user_quantile_sci_GPA interview_odds_given_PA_resident  \n",
       "ranking                                                                   \n",
       "1                            0.46744384                       5.75268817  \n",
       "2                            0.44638500                       2.18348624  \n",
       "3                            0.40675513                       4.93750000  \n",
       "4                            0.38941912                       0.51290323  \n",
       "5                            0.34521458                       3.64285714  \n",
       "6                            0.34869498                       0.90556901  \n",
       "7                            0.35006579                       0.41216216  \n",
       "8                            0.33183975                       0.47019868  \n",
       "9                            0.34295930                       1.04102564  \n",
       "10                           0.31116937                       0.68815331  \n",
       "11                           0.30456688                       0.37748344  \n",
       "12                           0.30006199                       0.80158730  \n",
       "13                           0.30267116                       1.21003135  \n",
       "14                           0.29820455                       0.51315789  \n",
       "15                           0.29820455                       1.18875502  \n",
       "16                           0.29893075                       1.07823961  \n",
       "17                           0.27099400                       0.36433260  \n",
       "18                           0.27002834                       0.38547486  \n",
       "19                           0.26156556                       1.80694981  \n",
       "20                           0.26914817                       0.45404664  "
      ]
     },
     "execution_count": 719,
     "metadata": {},
     "output_type": "execute_result"
    }
   ],
   "source": [
    "df_ranked.loc[:20]"
   ]
  },
  {
   "cell_type": "markdown",
   "id": "e6a93565",
   "metadata": {},
   "source": [
    "The user (fiancée) also has a strong affinity towards California schools, so make/print/save a separate list of containing just CA schools, ordered by ranking."
   ]
  },
  {
   "cell_type": "code",
   "execution_count": 720,
   "id": "d30c3f59",
   "metadata": {},
   "outputs": [
    {
     "data": {
      "text/html": [
       "<div>\n",
       "<style scoped>\n",
       "    .dataframe tbody tr th:only-of-type {\n",
       "        vertical-align: middle;\n",
       "    }\n",
       "\n",
       "    .dataframe tbody tr th {\n",
       "        vertical-align: top;\n",
       "    }\n",
       "\n",
       "    .dataframe thead th {\n",
       "        text-align: right;\n",
       "    }\n",
       "</style>\n",
       "<table border=\"1\" class=\"dataframe\">\n",
       "  <thead>\n",
       "    <tr style=\"text-align: right;\">\n",
       "      <th></th>\n",
       "      <th>name</th>\n",
       "      <th>state</th>\n",
       "      <th>estimated_user_quantile_MCAT</th>\n",
       "      <th>estimated_user_quantile_total_GPA</th>\n",
       "      <th>estimated_user_quantile_sci_GPA</th>\n",
       "      <th>interview_odds_given_PA_resident</th>\n",
       "    </tr>\n",
       "    <tr>\n",
       "      <th>ranking</th>\n",
       "      <th></th>\n",
       "      <th></th>\n",
       "      <th></th>\n",
       "      <th></th>\n",
       "      <th></th>\n",
       "      <th></th>\n",
       "    </tr>\n",
       "  </thead>\n",
       "  <tbody>\n",
       "    <tr>\n",
       "      <th>33</th>\n",
       "      <td>University of California, Los Angeles David Ge...</td>\n",
       "      <td>CA</td>\n",
       "      <td>0.32659561</td>\n",
       "      <td>0.33516898</td>\n",
       "      <td>0.22516049</td>\n",
       "      <td>1.01555556</td>\n",
       "    </tr>\n",
       "    <tr>\n",
       "      <th>40</th>\n",
       "      <td>Keck School of Medicine of the University of S...</td>\n",
       "      <td>CA</td>\n",
       "      <td>0.25015566</td>\n",
       "      <td>0.35403684</td>\n",
       "      <td>0.20406701</td>\n",
       "      <td>0.34549356</td>\n",
       "    </tr>\n",
       "    <tr>\n",
       "      <th>68</th>\n",
       "      <td>Kaiser Permanente Bernard J. Tyson School of M...</td>\n",
       "      <td>CA</td>\n",
       "      <td>0.13064798</td>\n",
       "      <td>0.23396654</td>\n",
       "      <td>0.15219902</td>\n",
       "      <td>1.24451411</td>\n",
       "    </tr>\n",
       "    <tr>\n",
       "      <th>69</th>\n",
       "      <td>University of California, San Diego School of ...</td>\n",
       "      <td>CA</td>\n",
       "      <td>0.25015566</td>\n",
       "      <td>0.25015566</td>\n",
       "      <td>0.12286614</td>\n",
       "      <td>0.34259259</td>\n",
       "    </tr>\n",
       "    <tr>\n",
       "      <th>82</th>\n",
       "      <td>California Northstate University College of Me...</td>\n",
       "      <td>CA</td>\n",
       "      <td>0.32659561</td>\n",
       "      <td>0.29487443</td>\n",
       "      <td>0.18714815</td>\n",
       "      <td>0.10600707</td>\n",
       "    </tr>\n",
       "    <tr>\n",
       "      <th>89</th>\n",
       "      <td>Loma Linda University School of Medicine</td>\n",
       "      <td>CA</td>\n",
       "      <td>0.50000000</td>\n",
       "      <td>0.14476736</td>\n",
       "      <td>0.08882919</td>\n",
       "      <td>1.18902439</td>\n",
       "    </tr>\n",
       "    <tr>\n",
       "      <th>94</th>\n",
       "      <td>University of California, Irvine, School of Me...</td>\n",
       "      <td>CA</td>\n",
       "      <td>0.25015566</td>\n",
       "      <td>0.23510333</td>\n",
       "      <td>0.08224546</td>\n",
       "      <td>0.13636364</td>\n",
       "    </tr>\n",
       "    <tr>\n",
       "      <th>114</th>\n",
       "      <td>University of California, San Francisco, Schoo...</td>\n",
       "      <td>CA</td>\n",
       "      <td>0.19975407</td>\n",
       "      <td>0.10016710</td>\n",
       "      <td>0.03021991</td>\n",
       "      <td>0.48762376</td>\n",
       "    </tr>\n",
       "    <tr>\n",
       "      <th>120</th>\n",
       "      <td>University of California, Davis, School of Med...</td>\n",
       "      <td>CA</td>\n",
       "      <td>0.56690503</td>\n",
       "      <td>0.57292195</td>\n",
       "      <td>0.41988019</td>\n",
       "      <td>0.03655914</td>\n",
       "    </tr>\n",
       "    <tr>\n",
       "      <th>124</th>\n",
       "      <td>Stanford University School of Medicine</td>\n",
       "      <td>CA</td>\n",
       "      <td>0.02158818</td>\n",
       "      <td>0.08882919</td>\n",
       "      <td>0.02158818</td>\n",
       "      <td>2.17123288</td>\n",
       "    </tr>\n",
       "    <tr>\n",
       "      <th>130</th>\n",
       "      <td>University of California, Riverside School of ...</td>\n",
       "      <td>CA</td>\n",
       "      <td>0.67340439</td>\n",
       "      <td>0.51581275</td>\n",
       "      <td>0.33825213</td>\n",
       "      <td>0.00401606</td>\n",
       "    </tr>\n",
       "    <tr>\n",
       "      <th>131</th>\n",
       "      <td>California University of Science and Medicine-...</td>\n",
       "      <td>CA</td>\n",
       "      <td>0.32659561</td>\n",
       "      <td>0.44638500</td>\n",
       "      <td>0.26834260</td>\n",
       "      <td>0.01926782</td>\n",
       "    </tr>\n",
       "  </tbody>\n",
       "</table>\n",
       "</div>"
      ],
      "text/plain": [
       "                                                      name state  \\\n",
       "ranking                                                            \n",
       "33       University of California, Los Angeles David Ge...    CA   \n",
       "40       Keck School of Medicine of the University of S...    CA   \n",
       "68       Kaiser Permanente Bernard J. Tyson School of M...    CA   \n",
       "69       University of California, San Diego School of ...    CA   \n",
       "82       California Northstate University College of Me...    CA   \n",
       "89                Loma Linda University School of Medicine    CA   \n",
       "94       University of California, Irvine, School of Me...    CA   \n",
       "114      University of California, San Francisco, Schoo...    CA   \n",
       "120      University of California, Davis, School of Med...    CA   \n",
       "124                 Stanford University School of Medicine    CA   \n",
       "130      University of California, Riverside School of ...    CA   \n",
       "131      California University of Science and Medicine-...    CA   \n",
       "\n",
       "        estimated_user_quantile_MCAT estimated_user_quantile_total_GPA  \\\n",
       "ranking                                                                  \n",
       "33                        0.32659561                        0.33516898   \n",
       "40                        0.25015566                        0.35403684   \n",
       "68                        0.13064798                        0.23396654   \n",
       "69                        0.25015566                        0.25015566   \n",
       "82                        0.32659561                        0.29487443   \n",
       "89                        0.50000000                        0.14476736   \n",
       "94                        0.25015566                        0.23510333   \n",
       "114                       0.19975407                        0.10016710   \n",
       "120                       0.56690503                        0.57292195   \n",
       "124                       0.02158818                        0.08882919   \n",
       "130                       0.67340439                        0.51581275   \n",
       "131                       0.32659561                        0.44638500   \n",
       "\n",
       "        estimated_user_quantile_sci_GPA interview_odds_given_PA_resident  \n",
       "ranking                                                                   \n",
       "33                           0.22516049                       1.01555556  \n",
       "40                           0.20406701                       0.34549356  \n",
       "68                           0.15219902                       1.24451411  \n",
       "69                           0.12286614                       0.34259259  \n",
       "82                           0.18714815                       0.10600707  \n",
       "89                           0.08882919                       1.18902439  \n",
       "94                           0.08224546                       0.13636364  \n",
       "114                          0.03021991                       0.48762376  \n",
       "120                          0.41988019                       0.03655914  \n",
       "124                          0.02158818                       2.17123288  \n",
       "130                          0.33825213                       0.00401606  \n",
       "131                          0.26834260                       0.01926782  "
      ]
     },
     "execution_count": 720,
     "metadata": {},
     "output_type": "execute_result"
    }
   ],
   "source": [
    "df_ranked_ca = df_ranked.loc[df_ranked['state'] == 'CA']\n",
    "df_ranked_ca.to_csv('med_schools_ranked_relative_to_fiancee_just_california.csv')\n",
    "df_ranked_ca"
   ]
  },
  {
   "cell_type": "markdown",
   "id": "b5aed3f8",
   "metadata": {},
   "source": [
    "Similarly, the user (fiancée) also has a strong affinity towards Pennsylvania schools, so make/print/save a separate list of containing just PA schools, ordered by ranking.  One interesting thing worth mentioning is that she went to PSU for her undergraduate degree, and Penn State Hershey Medical College has a bias towards accepting PSU alumnia, so her chances of being accepted into Penn State Hershey are potentially much greater than what's listed here."
   ]
  },
  {
   "cell_type": "code",
   "execution_count": 721,
   "id": "da253bd1",
   "metadata": {},
   "outputs": [
    {
     "data": {
      "text/html": [
       "<div>\n",
       "<style scoped>\n",
       "    .dataframe tbody tr th:only-of-type {\n",
       "        vertical-align: middle;\n",
       "    }\n",
       "\n",
       "    .dataframe tbody tr th {\n",
       "        vertical-align: top;\n",
       "    }\n",
       "\n",
       "    .dataframe thead th {\n",
       "        text-align: right;\n",
       "    }\n",
       "</style>\n",
       "<table border=\"1\" class=\"dataframe\">\n",
       "  <thead>\n",
       "    <tr style=\"text-align: right;\">\n",
       "      <th></th>\n",
       "      <th>name</th>\n",
       "      <th>state</th>\n",
       "      <th>estimated_user_quantile_MCAT</th>\n",
       "      <th>estimated_user_quantile_total_GPA</th>\n",
       "      <th>estimated_user_quantile_sci_GPA</th>\n",
       "      <th>interview_odds_given_PA_resident</th>\n",
       "    </tr>\n",
       "    <tr>\n",
       "      <th>ranking</th>\n",
       "      <th></th>\n",
       "      <th></th>\n",
       "      <th></th>\n",
       "      <th></th>\n",
       "      <th></th>\n",
       "      <th></th>\n",
       "    </tr>\n",
       "  </thead>\n",
       "  <tbody>\n",
       "    <tr>\n",
       "      <th>20</th>\n",
       "      <td>Lewis Katz School of Medicine at Temple Univer...</td>\n",
       "      <td>PA</td>\n",
       "      <td>0.50000000</td>\n",
       "      <td>0.41111930</td>\n",
       "      <td>0.26914817</td>\n",
       "      <td>0.45404664</td>\n",
       "    </tr>\n",
       "    <tr>\n",
       "      <th>36</th>\n",
       "      <td>Drexel University College of Medicine</td>\n",
       "      <td>PA</td>\n",
       "      <td>0.50000000</td>\n",
       "      <td>0.35403684</td>\n",
       "      <td>0.21116631</td>\n",
       "      <td>0.28973277</td>\n",
       "    </tr>\n",
       "    <tr>\n",
       "      <th>39</th>\n",
       "      <td>Pennsylvania State University College of Medicine</td>\n",
       "      <td>PA</td>\n",
       "      <td>0.50000000</td>\n",
       "      <td>0.32234266</td>\n",
       "      <td>0.20406701</td>\n",
       "      <td>1.12676056</td>\n",
       "    </tr>\n",
       "    <tr>\n",
       "      <th>43</th>\n",
       "      <td>Geisinger Commonwealth School of Medicine</td>\n",
       "      <td>PA</td>\n",
       "      <td>0.41111930</td>\n",
       "      <td>0.31055893</td>\n",
       "      <td>0.19549643</td>\n",
       "      <td>0.94549266</td>\n",
       "    </tr>\n",
       "    <tr>\n",
       "      <th>75</th>\n",
       "      <td>Sidney Kimmel Medical College at Thomas Jeffer...</td>\n",
       "      <td>PA</td>\n",
       "      <td>0.32659561</td>\n",
       "      <td>0.25015566</td>\n",
       "      <td>0.11713884</td>\n",
       "      <td>0.32061069</td>\n",
       "    </tr>\n",
       "    <tr>\n",
       "      <th>99</th>\n",
       "      <td>University of Pittsburgh School of Medicine</td>\n",
       "      <td>PA</td>\n",
       "      <td>0.19975407</td>\n",
       "      <td>0.16983099</td>\n",
       "      <td>0.07019033</td>\n",
       "      <td>0.40659341</td>\n",
       "    </tr>\n",
       "    <tr>\n",
       "      <th>137</th>\n",
       "      <td>Perelman School of Medicine at the University ...</td>\n",
       "      <td>PA</td>\n",
       "      <td>0.00037584</td>\n",
       "      <td>0.00614983</td>\n",
       "      <td>0.00016240</td>\n",
       "      <td>0.10481586</td>\n",
       "    </tr>\n",
       "  </tbody>\n",
       "</table>\n",
       "</div>"
      ],
      "text/plain": [
       "                                                      name state  \\\n",
       "ranking                                                            \n",
       "20       Lewis Katz School of Medicine at Temple Univer...    PA   \n",
       "36                   Drexel University College of Medicine    PA   \n",
       "39       Pennsylvania State University College of Medicine    PA   \n",
       "43               Geisinger Commonwealth School of Medicine    PA   \n",
       "75       Sidney Kimmel Medical College at Thomas Jeffer...    PA   \n",
       "99             University of Pittsburgh School of Medicine    PA   \n",
       "137      Perelman School of Medicine at the University ...    PA   \n",
       "\n",
       "        estimated_user_quantile_MCAT estimated_user_quantile_total_GPA  \\\n",
       "ranking                                                                  \n",
       "20                        0.50000000                        0.41111930   \n",
       "36                        0.50000000                        0.35403684   \n",
       "39                        0.50000000                        0.32234266   \n",
       "43                        0.41111930                        0.31055893   \n",
       "75                        0.32659561                        0.25015566   \n",
       "99                        0.19975407                        0.16983099   \n",
       "137                       0.00037584                        0.00614983   \n",
       "\n",
       "        estimated_user_quantile_sci_GPA interview_odds_given_PA_resident  \n",
       "ranking                                                                   \n",
       "20                           0.26914817                       0.45404664  \n",
       "36                           0.21116631                       0.28973277  \n",
       "39                           0.20406701                       1.12676056  \n",
       "43                           0.19549643                       0.94549266  \n",
       "75                           0.11713884                       0.32061069  \n",
       "99                           0.07019033                       0.40659341  \n",
       "137                          0.00016240                       0.10481586  "
      ]
     },
     "execution_count": 721,
     "metadata": {},
     "output_type": "execute_result"
    }
   ],
   "source": [
    "df_ranked_pa = df_ranked.loc[df_ranked['state'] == 'PA']\n",
    "df_ranked_pa.to_csv('med_schools_ranked_relative_to_fiancee_just_pennsylvania.csv')\n",
    "df_ranked_pa"
   ]
  },
  {
   "cell_type": "markdown",
   "id": "e86a447d",
   "metadata": {},
   "source": [
    "### Perform PCA of Every Possible Feature\n",
    "\n",
    "\n",
    "Purely for academic reasons.  All 4 feature-engineered metrics are also included in this principle component analysis."
   ]
  },
  {
   "cell_type": "code",
   "execution_count": 722,
   "id": "58235fb8",
   "metadata": {},
   "outputs": [
    {
     "data": {
      "image/png": "[encoded data removed]",
      "text/plain": [
       "<Figure size 500x500 with 1 Axes>"
      ]
     },
     "metadata": {},
     "output_type": "display_data"
    }
   ],
   "source": [
    "object_cols_to_convert_to_dummy = ['accepts_out_of_state', 'school_type', 'online_available', 'research_thesis_req_during_med_school']\n",
    "df_pca = df_ranked[['name']].merge(\n",
    "    df.merge(\n",
    "        pd.get_dummies(\n",
    "            df[object_cols_to_convert_to_dummy]\n",
    "        ),\n",
    "        left_index=True,\n",
    "        right_index=True\n",
    "    ), \n",
    "    on='name'\n",
    ").fillna(0).select_dtypes(exclude=['object'])\n",
    "df_pca = (df_pca - df_pca.mean()) / df_pca.std()\n",
    "pca    = PCA(n_components=2)\n",
    "vals   = pca.fit_transform(df_pca.values)\n",
    "cmap   = pd.Series(df_pca.index.values <= 20).apply(lambda x: 'Top 20 Schools' if x else 'Others')\n",
    "plt.figure(figsize=(5, 5))\n",
    "sns.scatterplot(x=vals[:, 0], y=vals[:, 1], hue=cmap, style=cmap, palette='Set1')\n",
    "plt.title('PCA of Every Possible Feature')\n",
    "first_pc_explained_var_percent = pca.explained_variance_ratio_[0] * 100\n",
    "plt.xlabel(f'1st Principal Component ({first_pc_explained_var_percent:.0f}% Explained Variance)')\n",
    "second_pc_explained_var_percent = pca.explained_variance_ratio_[1] * 100\n",
    "plt.ylabel(f'2nd Principal Component ({second_pc_explained_var_percent:.0f}% Explained Variance)')\n",
    "plt.show()"
   ]
  },
  {
   "cell_type": "markdown",
   "id": "f49bdfb6",
   "metadata": {},
   "source": [
    "We can see that the analysis/feature engineering was presumably much more insightful than approaching EDA via PCA/Clustering."
   ]
  },
  {
   "cell_type": "code",
   "execution_count": null,
   "id": "7761e7f8",
   "metadata": {},
   "outputs": [],
   "source": []
  },
  {
   "cell_type": "code",
   "execution_count": null,
   "id": "ad0cffb7",
   "metadata": {},
   "outputs": [],
   "source": []
  },
  {
   "cell_type": "code",
   "execution_count": null,
   "id": "7f7ce82e",
   "metadata": {},
   "outputs": [],
   "source": []
  },
  {
   "cell_type": "code",
   "execution_count": null,
   "id": "a8e5331a",
   "metadata": {},
   "outputs": [],
   "source": []
  }
 ],
 "metadata": {
  "kernelspec": {
   "display_name": "Python 3 (ipykernel)",
   "language": "python",
   "name": "python3"
  },
  "language_info": {
   "codemirror_mode": {
    "name": "ipython",
    "version": 3
   },
   "file_extension": ".py",
   "mimetype": "text/x-python",
   "name": "python",
   "nbconvert_exporter": "python",
   "pygments_lexer": "ipython3",
   "version": "3.9.13"
  }
 },
 "nbformat": 4,
 "nbformat_minor": 5
}
